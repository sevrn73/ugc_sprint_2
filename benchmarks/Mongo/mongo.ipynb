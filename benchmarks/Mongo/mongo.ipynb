{
 "cells": [
  {
   "cell_type": "code",
   "execution_count": 21,
   "id": "2d938b8c",
   "metadata": {},
   "outputs": [],
   "source": [
    "from utils import test_insert, fake_like_event, fake_review_event, fake_bookmark_event, test_read_data\n",
    "\n",
    "\n",
    "MONGO_COLLECTION_LIKE = \"likedFilms\"\n",
    "MONGO_COLLECTION_REVIEW = \"reviews\"\n",
    "MONGO_COLLECTION_BOOKMARK = \"bookmarks\"\n"
   ]
  },
  {
   "cell_type": "code",
   "execution_count": 22,
   "id": "02dcc532",
   "metadata": {},
   "outputs": [
    {
     "name": "stdout",
     "output_type": "stream",
     "text": [
      "Statistics for likedFilms batch_size=1: batch=0.02465360164642334 sec, item=0.02465360164642334 sec.\n",
      "Statistics for likedFilms batch_size=10: batch=0.010732316970825195 sec, item=0.0010732316970825195 sec.\n",
      "Statistics for likedFilms batch_size=50: batch=0.013433074951171875 sec, item=0.0002686614990234375 sec.\n",
      "Statistics for likedFilms batch_size=100: batch=0.013055253028869628 sec, item=0.0001305525302886963 sec.\n",
      "Statistics for likedFilms batch_size=200: batch=0.014576482772827148 sec, item=7.288241386413574e-05 sec.\n",
      "Statistics for likedFilms batch_size=500: batch=0.022919845581054688 sec, item=4.5839691162109376e-05 sec.\n",
      "Statistics for likedFilms batch_size=1000: batch=0.03665037155151367 sec, item=3.665037155151367e-05 sec.\n",
      "Statistics for likedFilms batch_size=2000: batch=0.057922768592834475 sec, item=2.8961384296417238e-05 sec.\n",
      "Statistics for likedFilms batch_size=5000: batch=0.14073796272277833 sec, item=2.8147592544555665e-05 sec.\n"
     ]
    }
   ],
   "source": [
    "# тестирование записи - лайки\n",
    "test_insert(\n",
    "    fake_like_event,\n",
    "    MONGO_COLLECTION_LIKE,\n",
    ")"
   ]
  },
  {
   "cell_type": "code",
   "execution_count": 23,
   "id": "93c817f6",
   "metadata": {},
   "outputs": [
    {
     "name": "stdout",
     "output_type": "stream",
     "text": [
      "Statistics for reviews batch_size=1: batch=0.012481212615966797 sec, item=0.012481212615966797 sec.\n",
      "Statistics for reviews batch_size=10: batch=0.012690854072570801 sec, item=0.0012690854072570801 sec.\n",
      "Statistics for reviews batch_size=50: batch=0.013010668754577636 sec, item=0.00026021337509155273 sec.\n",
      "Statistics for reviews batch_size=100: batch=0.014226698875427246 sec, item=0.00014226698875427246 sec.\n",
      "Statistics for reviews batch_size=200: batch=0.019435811042785644 sec, item=9.717905521392822e-05 sec.\n",
      "Statistics for reviews batch_size=500: batch=0.03144149780273438 sec, item=6.288299560546875e-05 sec.\n",
      "Statistics for reviews batch_size=1000: batch=0.05148756504058838 sec, item=5.148756504058838e-05 sec.\n",
      "Statistics for reviews batch_size=2000: batch=0.08531837463378907 sec, item=4.265918731689453e-05 sec.\n",
      "Statistics for reviews batch_size=5000: batch=0.19660665988922119 sec, item=3.932133197784424e-05 sec.\n"
     ]
    }
   ],
   "source": [
    "# тестирование записи - рецензии\n",
    "test_insert(\n",
    "    fake_review_event,\n",
    "    MONGO_COLLECTION_REVIEW,\n",
    ")"
   ]
  },
  {
   "cell_type": "code",
   "execution_count": 24,
   "id": "eb6f115a",
   "metadata": {},
   "outputs": [
    {
     "name": "stdout",
     "output_type": "stream",
     "text": [
      "Statistics for bookmarks batch_size=1: batch=0.015044713020324707 sec, item=0.015044713020324707 sec.\n",
      "Statistics for bookmarks batch_size=10: batch=0.007931995391845702 sec, item=0.0007931995391845702 sec.\n",
      "Statistics for bookmarks batch_size=50: batch=0.013275885581970214 sec, item=0.0002655177116394043 sec.\n",
      "Statistics for bookmarks batch_size=100: batch=0.013023734092712402 sec, item=0.00013023734092712402 sec.\n",
      "Statistics for bookmarks batch_size=200: batch=0.014547467231750488 sec, item=7.273733615875244e-05 sec.\n",
      "Statistics for bookmarks batch_size=500: batch=0.021040868759155274 sec, item=4.208173751831055e-05 sec.\n",
      "Statistics for bookmarks batch_size=1000: batch=0.036208605766296385 sec, item=3.620860576629639e-05 sec.\n",
      "Statistics for bookmarks batch_size=2000: batch=0.05947563648223877 sec, item=2.9737818241119385e-05 sec.\n",
      "Statistics for bookmarks batch_size=5000: batch=0.13103628158569336 sec, item=2.620725631713867e-05 sec.\n"
     ]
    }
   ],
   "source": [
    "# тестирование записи - закладки\n",
    "test_insert(\n",
    "    fake_bookmark_event,\n",
    "    MONGO_COLLECTION_BOOKMARK,\n",
    ")"
   ]
  },
  {
   "cell_type": "code",
   "execution_count": 25,
   "id": "114af99e",
   "metadata": {},
   "outputs": [
    {
     "name": "stdout",
     "output_type": "stream",
     "text": [
      "Statistics read for likedFilms for ~500 records: 0.05559035539627075 sec\n"
     ]
    }
   ],
   "source": [
    "# тестирование чтения - лайки\n",
    "test_read_data(fake_like_event, MONGO_COLLECTION_LIKE, 20)"
   ]
  },
  {
   "cell_type": "code",
   "execution_count": 26,
   "id": "4d1809bc",
   "metadata": {},
   "outputs": [
    {
     "name": "stdout",
     "output_type": "stream",
     "text": [
      "Statistics read for reviews for ~500 records: 0.06227442026138306 sec\n"
     ]
    }
   ],
   "source": [
    "# тестирование чтения - рецензии\n",
    "test_read_data(fake_review_event, MONGO_COLLECTION_REVIEW, 20)"
   ]
  },
  {
   "cell_type": "code",
   "execution_count": 27,
   "id": "41c61f9b",
   "metadata": {},
   "outputs": [
    {
     "name": "stdout",
     "output_type": "stream",
     "text": [
      "Statistics read for bookmarks for ~500 records: 0.05557516813278198 sec\n"
     ]
    }
   ],
   "source": [
    "# тестирование чтения - закладки\n",
    "test_read_data(fake_bookmark_event, MONGO_COLLECTION_BOOKMARK, 20)"
   ]
  }
 ],
 "metadata": {
  "kernelspec": {
   "display_name": "Python 3 (ipykernel)",
   "language": "python",
   "name": "python3"
  },
  "language_info": {
   "codemirror_mode": {
    "name": "ipython",
    "version": 3
   },
   "file_extension": ".py",
   "mimetype": "text/x-python",
   "name": "python",
   "nbconvert_exporter": "python",
   "pygments_lexer": "ipython3",
   "version": "3.9.12"
  }
 },
 "nbformat": 4,
 "nbformat_minor": 5
}
