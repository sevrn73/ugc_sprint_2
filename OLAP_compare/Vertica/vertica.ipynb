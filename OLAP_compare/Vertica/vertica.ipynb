{
 "cells": [
  {
   "cell_type": "code",
   "execution_count": 1,
   "metadata": {},
   "outputs": [],
   "source": [
    "# Запустить контейнер в терминале\n",
    "# docker run -p 5433:5433 jbfavre/vertica:latest"
   ]
  },
  {
   "cell_type": "code",
   "execution_count": 2,
   "metadata": {},
   "outputs": [],
   "source": [
    "import time\n",
    "import statistics\n",
    "import uuid\n",
    "from random import randint\n",
    "import vertica_python"
   ]
  },
  {
   "cell_type": "code",
   "execution_count": 3,
   "metadata": {},
   "outputs": [],
   "source": [
    "connection_info = {\n",
    "    \"host\": \"127.0.0.1\",\n",
    "    \"port\": 5433,\n",
    "    \"user\": \"dbadmin\",\n",
    "    \"password\": \"\",\n",
    "    \"database\": \"docker\",\n",
    "    \"autocommit\": True,\n",
    "}"
   ]
  },
  {
   "cell_type": "code",
   "execution_count": 4,
   "metadata": {},
   "outputs": [],
   "source": [
    "def generate_random_data(n_rows: int, iteration: int):\n",
    "    data = []\n",
    "    for _ in range(iteration*n_rows):\n",
    "        timestamp_movie = randint(1, 100)\n",
    "        time = randint(1000000000, 10000000000)\n",
    "        data.append((str(uuid.uuid4()), str(uuid.uuid4()), timestamp_movie, time))\n",
    "\n",
    "    yield data"
   ]
  },
  {
   "cell_type": "code",
   "execution_count": 5,
   "metadata": {},
   "outputs": [],
   "source": [
    "class profiler():\n",
    "    def __init__(self):\n",
    "        self.start = time.time()\n",
    "        self.all_durations = []\n",
    "        \n",
    "    def setup_start_time(self):\n",
    "        self.start = time.time()\n",
    "\n",
    "    def checkpoint(self):\n",
    "        end_time = time.time()\n",
    "        self.all_durations.append(end_time - self.start)\n",
    "        self.start = end_time\n",
    "\n",
    "    def __enter__(self):\n",
    "        return self\n",
    "\n",
    "    def __exit__(self, type, value, traceback):\n",
    "        print(f\"Median - {statistics.median(self.all_durations)}\")\n",
    "        avg = sum(self.all_durations) / len(self.all_durations)\n",
    "        print(f\"Average - {avg}\")\n",
    "        print(f\"Summary - {sum(self.all_durations)}\")"
   ]
  },
  {
   "cell_type": "code",
   "execution_count": 7,
   "metadata": {},
   "outputs": [
    {
     "name": "stdout",
     "output_type": "stream",
     "text": [
      "\n",
      "Тестирование вставки по 500 записей\n",
      "Median - 196.04894280433655\n",
      "Average - 196.04894280433655\n",
      "Summary - 196.04894280433655\n",
      "\n",
      "Тестирование одной вставки\n",
      "Median - 160.0019609928131\n",
      "Average - 160.0019609928131\n",
      "Summary - 160.0019609928131\n",
      "\n",
      "Тестирование получения данных\n",
      "Median - 0.006012916564941406\n",
      "Average - 0.009008913040161133\n",
      "Summary - 0.9008913040161133\n"
     ]
    }
   ],
   "source": [
    "with vertica_python.connect(**connection_info) as connection:\n",
    "    cursor = connection.cursor()\n",
    "    \n",
    "    cursor.execute(\n",
    "        \"\"\"CREATE TABLE IF NOT EXISTS views (\n",
    "        id IDENTITY,\n",
    "        user_id uuid NOT NULL,\n",
    "        movie_id uuid NOT NULL,\n",
    "        timestamp_movie integer NOT NULL,\n",
    "        time integer NOT NULL);\"\"\"\n",
    "    )\n",
    "\n",
    "    print('\\nТестирование вставки по 500 записей')\n",
    "    with profiler() as p:\n",
    "        for data in generate_random_data(500, 200):\n",
    "            p.setup_start_time()\n",
    "            cursor.executemany(\n",
    "                \"INSERT INTO views (user_id, movie_id, timestamp_movie, time) VALUES(?, ?, ?, ?)\",\n",
    "                data,\n",
    "                use_prepared_statements=True,\n",
    "            )\n",
    "            p.checkpoint()\n",
    "\n",
    "    print('\\nТестирование одной вставки')\n",
    "    with profiler() as p:\n",
    "        for data in generate_random_data(1, 200):\n",
    "            p.setup_start_time()\n",
    "            cursor.executemany(\n",
    "                \"INSERT INTO views (user_id, movie_id, timestamp_movie, time) VALUES(?, ?, ?, ?)\",\n",
    "                data,\n",
    "                use_prepared_statements=True,\n",
    "            )\n",
    "            p.checkpoint()\n",
    "\n",
    "    print('\\nТестирование получения данных')\n",
    "    cursor.execute(\"SELECT user_id FROM views LIMIT 100;\")\n",
    "    uuids = [str(u[0]) for u in cursor.fetchall()]\n",
    "    with profiler() as p:\n",
    "        for u in uuids:\n",
    "            p.setup_start_time()\n",
    "            cursor.execute(f\"SELECT * FROM views where user_id='{u}';\")\n",
    "            p.checkpoint()"
   ]
  }
 ],
 "metadata": {
  "kernelspec": {
   "display_name": "Python 3",
   "language": "python",
   "name": "python3"
  },
  "language_info": {
   "codemirror_mode": {
    "name": "ipython",
    "version": 3
   },
   "file_extension": ".py",
   "mimetype": "text/x-python",
   "name": "python",
   "nbconvert_exporter": "python",
   "pygments_lexer": "ipython3",
   "version": "3.8.10"
  },
  "orig_nbformat": 4,
  "vscode": {
   "interpreter": {
    "hash": "570feb405e2e27c949193ac68f46852414290d515b0ba6e5d90d076ed2284471"
   }
  }
 },
 "nbformat": 4,
 "nbformat_minor": 2
}
